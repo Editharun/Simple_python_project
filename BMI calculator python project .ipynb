{
 "cells": [
  {
   "cell_type": "markdown",
   "id": "e0089ec4",
   "metadata": {},
   "source": [
    "# BMI Calculator\n"
   ]
  },
  {
   "cell_type": "code",
   "execution_count": 7,
   "id": "2e1db110",
   "metadata": {},
   "outputs": [
    {
     "name": "stdout",
     "output_type": "stream",
     "text": [
      "Enter your Name:keerthika\n",
      "Enter your weight in Kilogram:44\n",
      "Enter your Height in metre:1.5\n",
      "19.56 %\n",
      "keerthika,You are normal\n"
     ]
    }
   ],
   "source": [
    "Name= input(\"Enter your Name:\") \n",
    "\n",
    "Weight= int(input(\"Enter your weight in Kilogram:\"))\n",
    "\n",
    "Height= float(input(\"Enter your Height in metre:\"))\n",
    "\n",
    "BMI= ((Weight) / (Height**2))\n",
    "\n",
    "\n",
    "print(round(BMI,2), '%')\n",
    "\n",
    "if BMI>0:\n",
    "    if BMI<16:\n",
    "        print(Name+',you are severe thinness')\n",
    "    elif BMI<=17:\n",
    "        print(Name+',you are moderate thinness')\n",
    "    elif BMI<=18.5:\n",
    "        print(Name+',You are mild thinness')\n",
    "    elif BMI<=25:\n",
    "        print(Name+',You are normal')\n",
    "    elif BMI<=30:\n",
    "        print(Name+',You are overweight')\n",
    "    elif BMI<=35:\n",
    "        print(Name+',You are obese class 1')\n",
    "    elif BMI<=40:\n",
    "        print(Name+',you are obese class 2')\n",
    "    elif BMI>40:\n",
    "        print(Name+',you are obese class 3')\n",
    "    else:\n",
    "        print('Enter invalid')"
   ]
  },
  {
   "cell_type": "code",
   "execution_count": 6,
   "id": "23ab0c31",
   "metadata": {},
   "outputs": [],
   "source": [
    "#BMI = weight (kg) ÷ (height (m))2"
   ]
  },
  {
   "cell_type": "code",
   "execution_count": null,
   "id": "cb70f787",
   "metadata": {
    "scrolled": true
   },
   "outputs": [],
   "source": [
    "\n"
   ]
  },
  {
   "cell_type": "code",
   "execution_count": null,
   "id": "fa8548f2",
   "metadata": {},
   "outputs": [],
   "source": []
  },
  {
   "cell_type": "code",
   "execution_count": null,
   "id": "d3a6b08b",
   "metadata": {},
   "outputs": [],
   "source": []
  },
  {
   "cell_type": "code",
   "execution_count": null,
   "id": "70235484",
   "metadata": {},
   "outputs": [],
   "source": []
  }
 ],
 "metadata": {
  "kernelspec": {
   "display_name": "Python 3 (ipykernel)",
   "language": "python",
   "name": "python3"
  },
  "language_info": {
   "codemirror_mode": {
    "name": "ipython",
    "version": 3
   },
   "file_extension": ".py",
   "mimetype": "text/x-python",
   "name": "python",
   "nbconvert_exporter": "python",
   "pygments_lexer": "ipython3",
   "version": "3.11.3"
  }
 },
 "nbformat": 4,
 "nbformat_minor": 5
}
